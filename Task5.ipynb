{
  "nbformat": 4,
  "nbformat_minor": 0,
  "metadata": {
    "colab": {
      "provenance": [],
      "mount_file_id": "1Lk_ScKuURSZZaB44QwZqPajyfoLjtrAT",
      "authorship_tag": "ABX9TyPv/G/UcMNby5xJ8GLC1tgH",
      "include_colab_link": true
    },
    "kernelspec": {
      "name": "python3",
      "display_name": "Python 3"
    },
    "language_info": {
      "name": "python"
    }
  },
  "cells": [
    {
      "cell_type": "markdown",
      "metadata": {
        "id": "view-in-github",
        "colab_type": "text"
      },
      "source": [
        "<a href=\"https://colab.research.google.com/github/nandiniranjansinha/Prasunet_DS_05/blob/main/Task5.ipynb\" target=\"_parent\"><img src=\"https://colab.research.google.com/assets/colab-badge.svg\" alt=\"Open In Colab\"/></a>"
      ]
    },
    {
      "cell_type": "code",
      "source": [
        "import pandas as pd\n",
        "\n",
        "# Load the datasets\n",
        "accidents_df = pd.read_csv('/content/AccidentsBig.csv')\n",
        "casualties_df = pd.read_csv('/content/CasualtiesBig.csv')\n",
        "vehicles_df = pd.read_csv('/content/VehiclesBig.csv')\n",
        "\n",
        "# Display the first few rows of each dataset to check if they are loaded correctly\n",
        "print(\"Accidents DataFrame:\")\n",
        "print(accidents_df.head())\n",
        "print(\"Casualties DataFrame:\")\n",
        "print(casualties_df.head())\n",
        "print(\"Vehicles DataFrame:\")\n",
        "print(vehicles_df.head())\n",
        "\n",
        "# Display the column names to check for the presence of 'Accident_Index'\n",
        "print(\"Accidents columns:\", accidents_df.columns)\n",
        "print(\"Casualties columns:\", casualties_df.columns)\n",
        "print(\"Vehicles columns:\", vehicles_df.columns)\n"
      ],
      "metadata": {
        "colab": {
          "base_uri": "https://localhost:8080/"
        },
        "id": "NOGqSEEZYemd",
        "outputId": "1c074278-2d36-4aa9-ebcd-0e0a7be894ee"
      },
      "execution_count": 2,
      "outputs": [
        {
          "output_type": "stream",
          "name": "stderr",
          "text": [
            "<ipython-input-2-7d5b3f721c55>:4: DtypeWarning: Columns (8,10,28,29) have mixed types. Specify dtype option on import or set low_memory=False.\n",
            "  accidents_df = pd.read_csv('/content/AccidentsBig.csv')\n"
          ]
        },
        {
          "output_type": "stream",
          "name": "stdout",
          "text": [
            "Accidents DataFrame:\n",
            "   Accident_Index  longitude   latitude  Police_Force  Accident_Severity  \\\n",
            "0             1.0  78.610393  14.724026           1.0                2.0   \n",
            "1             2.0  78.534042  14.762353           1.0                3.0   \n",
            "2             3.0  78.470877  14.745606           1.0                3.0   \n",
            "3             4.0  78.557994  14.667128           1.0                3.0   \n",
            "4             5.0  78.576431  14.703443           1.0                3.0   \n",
            "\n",
            "   Number_of_Vehicles  Number_of_Casualties  Day_of_Week   Time  \\\n",
            "0                 1.0                   1.0          3.0  17:42   \n",
            "1                 1.0                   1.0          4.0  17:36   \n",
            "2                 2.0                   1.0          5.0  00:15   \n",
            "3                 1.0                   1.0          6.0  10:35   \n",
            "4                 1.0                   1.0          2.0  21:13   \n",
            "\n",
            "   Local_Authority_(District)  ... Pedestrian_Crossing-Physical_Facilities  \\\n",
            "0                        12.0  ...                                     1.0   \n",
            "1                        12.0  ...                                     5.0   \n",
            "2                        12.0  ...                                     0.0   \n",
            "3                        12.0  ...                                     0.0   \n",
            "4                        12.0  ...                                     0.0   \n",
            "\n",
            "   Light_Conditions  Weather_Conditions  Road_Surface_Conditions  \\\n",
            "0               1.0                 2.0                      2.0   \n",
            "1               4.0                 1.0                      1.0   \n",
            "2               4.0                 1.0                      1.0   \n",
            "3               1.0                 1.0                      1.0   \n",
            "4               7.0                 1.0                      2.0   \n",
            "\n",
            "   Special_Conditions_at_Site  Carriageway_Hazards  Urban_or_Rural_Area  \\\n",
            "0                         0.0                  0.0                  1.0   \n",
            "1                         0.0                  0.0                  1.0   \n",
            "2                         0.0                  0.0                  1.0   \n",
            "3                         0.0                  0.0                  1.0   \n",
            "4                         0.0                  0.0                  1.0   \n",
            "\n",
            "   Did_Police_Officer_Attend_Scene_of_Accident  LSOA_of_Accident_Location  \\\n",
            "0                                          1.0                  E01002849   \n",
            "1                                          1.0                  E01002909   \n",
            "2                                          1.0                  E01002857   \n",
            "3                                          1.0                  E01002840   \n",
            "4                                          1.0                  E01002863   \n",
            "\n",
            "         Date  \n",
            "0  04-01-2018  \n",
            "1  05-01-2018  \n",
            "2  06-01-2018  \n",
            "3  07-01-2018  \n",
            "4  10-01-2018  \n",
            "\n",
            "[5 rows x 30 columns]\n",
            "Casualties DataFrame:\n",
            "   Accident_Index  Vehicle_Reference  Casualty_Reference  Casualty_Class  \\\n",
            "0               1                  1                   1               3   \n",
            "1               2                  1                   1               2   \n",
            "2               3                  2                   1               1   \n",
            "3               4                  1                   1               3   \n",
            "4               5                  1                   1               1   \n",
            "\n",
            "   Sex_of_Casualty  Age_of_Casualty  Age_Band_of_Casualty  Casualty_Severity  \\\n",
            "0                1               37                     7                  2   \n",
            "1                1               37                     7                  3   \n",
            "2                1               62                     9                  3   \n",
            "3                1               30                     6                  3   \n",
            "4                1               49                     8                  3   \n",
            "\n",
            "   Pedestrian_Location  Pedestrian_Movement  Car_Passenger  \\\n",
            "0                    1                    1              0   \n",
            "1                    0                    0              0   \n",
            "2                    0                    0              0   \n",
            "3                    5                    2              0   \n",
            "4                    0                    0              0   \n",
            "\n",
            "   Bus_or_Coach_Passenger  Pedestrian_Road_Maintenance_Worker  Casualty_Type  \\\n",
            "0                       0                                  -1              0   \n",
            "1                       4                                  -1             11   \n",
            "2                       0                                  -1              9   \n",
            "3                       0                                  -1              0   \n",
            "4                       0                                  -1              3   \n",
            "\n",
            "   Casualty_Home_Area_Type  \n",
            "0                        1  \n",
            "1                        1  \n",
            "2                        1  \n",
            "3                        1  \n",
            "4                       -1  \n",
            "Vehicles DataFrame:\n",
            "   Accident_Index  Vehicle_Reference  Vehicle_Type  Towing_and_Articulation  \\\n",
            "0             1.0                1.0           9.0                      0.0   \n",
            "1             2.0                1.0          11.0                      0.0   \n",
            "2             3.0                1.0          11.0                      0.0   \n",
            "3             4.0                2.0           9.0                      0.0   \n",
            "4             5.0                1.0           9.0                      0.0   \n",
            "\n",
            "   Vehicle_Manoeuvre  Vehicle_Location-Restricted_Lane  Junction_Location  \\\n",
            "0               18.0                               0.0                0.0   \n",
            "1                4.0                               0.0                3.0   \n",
            "2               17.0                               0.0                0.0   \n",
            "3                2.0                               0.0                0.0   \n",
            "4               18.0                               0.0                0.0   \n",
            "\n",
            "   Skidding_and_Overturning  Hit_Object_in_Carriageway  \\\n",
            "0                       0.0                        0.0   \n",
            "1                       0.0                        0.0   \n",
            "2                       0.0                        4.0   \n",
            "3                       0.0                        0.0   \n",
            "4                       0.0                        0.0   \n",
            "\n",
            "   Vehicle_Leaving_Carriageway  ...  Was_Vehicle_Left_Hand_Drive?  \\\n",
            "0                          0.0  ...                           1.0   \n",
            "1                          0.0  ...                           1.0   \n",
            "2                          0.0  ...                           1.0   \n",
            "3                          0.0  ...                           1.0   \n",
            "4                          0.0  ...                           1.0   \n",
            "\n",
            "   Journey_Purpose_of_Driver  Sex_of_Driver  Age_of_Driver  \\\n",
            "0                       15.0            2.0           74.0   \n",
            "1                        1.0            1.0           42.0   \n",
            "2                        1.0            1.0           35.0   \n",
            "3                       15.0            1.0           62.0   \n",
            "4                       15.0            2.0           49.0   \n",
            "\n",
            "   Age_Band_of_Driver  Engine_Capacity_(CC)  Propulsion_Code  Age_of_Vehicle  \\\n",
            "0                10.0                  -1.0             -1.0            -1.0   \n",
            "1                 7.0                8268.0              2.0             3.0   \n",
            "2                 6.0                8300.0              2.0             5.0   \n",
            "3                 9.0                1762.0              1.0             6.0   \n",
            "4                 8.0                1769.0              1.0             4.0   \n",
            "\n",
            "   Driver_IMD_Decile  Driver_Home_Area_Type  \n",
            "0                7.0                    1.0  \n",
            "1               -1.0                   -1.0  \n",
            "2                2.0                    1.0  \n",
            "3                1.0                    1.0  \n",
            "4                2.0                    1.0  \n",
            "\n",
            "[5 rows x 22 columns]\n",
            "Accidents columns: Index(['Accident_Index', 'longitude', 'latitude', 'Police_Force',\n",
            "       'Accident_Severity', 'Number_of_Vehicles', 'Number_of_Casualties',\n",
            "       'Day_of_Week', 'Time', 'Local_Authority_(District)',\n",
            "       'Local_Authority_(Highway)', '1st_Road_Class', '1st_Road_Number',\n",
            "       'Road_Type', 'Speed_limit', 'Junction_Detail', 'Junction_Control',\n",
            "       '2nd_Road_Class', '2nd_Road_Number',\n",
            "       'Pedestrian_Crossing-Human_Control',\n",
            "       'Pedestrian_Crossing-Physical_Facilities', 'Light_Conditions',\n",
            "       'Weather_Conditions', 'Road_Surface_Conditions',\n",
            "       'Special_Conditions_at_Site', 'Carriageway_Hazards',\n",
            "       'Urban_or_Rural_Area', 'Did_Police_Officer_Attend_Scene_of_Accident',\n",
            "       'LSOA_of_Accident_Location', 'Date'],\n",
            "      dtype='object')\n",
            "Casualties columns: Index(['Accident_Index', 'Vehicle_Reference', 'Casualty_Reference',\n",
            "       'Casualty_Class', 'Sex_of_Casualty', 'Age_of_Casualty',\n",
            "       'Age_Band_of_Casualty', 'Casualty_Severity', 'Pedestrian_Location',\n",
            "       'Pedestrian_Movement', 'Car_Passenger', 'Bus_or_Coach_Passenger',\n",
            "       'Pedestrian_Road_Maintenance_Worker', 'Casualty_Type',\n",
            "       'Casualty_Home_Area_Type'],\n",
            "      dtype='object')\n",
            "Vehicles columns: Index(['Accident_Index', 'Vehicle_Reference', 'Vehicle_Type',\n",
            "       'Towing_and_Articulation', 'Vehicle_Manoeuvre',\n",
            "       'Vehicle_Location-Restricted_Lane', 'Junction_Location',\n",
            "       'Skidding_and_Overturning', 'Hit_Object_in_Carriageway',\n",
            "       'Vehicle_Leaving_Carriageway', 'Hit_Object_off_Carriageway',\n",
            "       '1st_Point_of_Impact', 'Was_Vehicle_Left_Hand_Drive?',\n",
            "       'Journey_Purpose_of_Driver', 'Sex_of_Driver', 'Age_of_Driver',\n",
            "       'Age_Band_of_Driver', 'Engine_Capacity_(CC)', 'Propulsion_Code',\n",
            "       'Age_of_Vehicle', 'Driver_IMD_Decile', 'Driver_Home_Area_Type'],\n",
            "      dtype='object')\n"
          ]
        }
      ]
    },
    {
      "cell_type": "code",
      "source": [
        "# Check if 'Accident_Index' column is present in each dataframe\n",
        "accidents_has_index = 'Accident_Index' in accidents_df.columns\n",
        "casualties_has_index = 'Accident_Index' in casualties_df.columns\n",
        "vehicles_has_index = 'Accident_Index' in vehicles_df.columns\n",
        "\n",
        "print(f\"Accidents dataset has 'Accident_Index': {accidents_has_index}\")\n",
        "print(f\"Casualties dataset has 'Accident_Index': {casualties_has_index}\")\n",
        "print(f\"Vehicles dataset has 'Accident_Index': {vehicles_has_index}\")\n",
        "\n",
        "if not accidents_has_index:\n",
        "    print(\"Error: 'Accident_Index' column is missing in the accidents dataset.\")\n",
        "if not casualties_has_index:\n",
        "    print(\"Error: 'Accident_Index' column is missing in the casualties dataset.\")\n",
        "if not vehicles_has_index:\n",
        "    print(\"Error: 'Accident_Index' column is missing in the vehicles dataset.\")\n",
        "\n",
        "# Check data types of 'Accident_Index' in each dataset\n",
        "print(\"Accidents 'Accident_Index' type:\", accidents_df['Accident_Index'].dtype)\n",
        "print(\"Casualties 'Accident_Index' type:\", casualties_df['Accident_Index'].dtype)\n",
        "print(\"Vehicles 'Accident_Index' type:\", vehicles_df['Accident_Index'].dtype)\n"
      ],
      "metadata": {
        "colab": {
          "base_uri": "https://localhost:8080/"
        },
        "id": "m3Znv9i-YmFq",
        "outputId": "0bb5dd3b-b835-45f8-d75e-27e8fa1bd0d7"
      },
      "execution_count": 3,
      "outputs": [
        {
          "output_type": "stream",
          "name": "stdout",
          "text": [
            "Accidents dataset has 'Accident_Index': True\n",
            "Casualties dataset has 'Accident_Index': True\n",
            "Vehicles dataset has 'Accident_Index': True\n",
            "Accidents 'Accident_Index' type: float64\n",
            "Casualties 'Accident_Index' type: int64\n",
            "Vehicles 'Accident_Index' type: float64\n"
          ]
        }
      ]
    },
    {
      "cell_type": "code",
      "source": [
        "# Handle missing values (choose an appropriate method based on the data)\n",
        "accidents_df.fillna(method='ffill', inplace=True)\n",
        "casualties_df.fillna(method='ffill', inplace=True)\n",
        "vehicles_df.fillna(method='ffill', inplace=True)\n",
        "\n"
      ],
      "metadata": {
        "id": "tI0LpOdAYqGP"
      },
      "execution_count": 4,
      "outputs": []
    },
    {
      "cell_type": "code",
      "source": [
        "# Convert 'Accident_Index' to string if they are not already\n",
        "accidents_df['Accident_Index'] = accidents_df['Accident_Index'].astype(str)\n",
        "casualties_df['Accident_Index'] = casualties_df['Accident_Index'].astype(str)\n",
        "vehicles_df['Accident_Index'] = vehicles_df['Accident_Index'].astype(str)\n",
        "\n",
        "# Convert data types if necessary\n",
        "if 'Date' in accidents_df.columns:\n",
        "    accidents_df['Date'] = pd.to_datetime(accidents_df['Date'], errors='coerce')\n",
        "\n",
        "# Check for any conversion issues\n",
        "print(\"Number of invalid dates:\", accidents_df['Date'].isnull().sum())  # This will show how many dates couldn't be parsed\n",
        "\n",
        "# Check if 'Time' column exists and convert it\n",
        "if 'Time' in accidents_df.columns:\n",
        "    try:\n",
        "        accidents_df['Time'] = pd.to_datetime(accidents_df['Time'], format='%H:%M', errors='coerce').dt.time\n",
        "    except ValueError as e:\n",
        "        print(f\"Error converting 'Time': {e}\")\n"
      ],
      "metadata": {
        "colab": {
          "base_uri": "https://localhost:8080/"
        },
        "id": "XzkIpGpFYsWi",
        "outputId": "1bd5a7a0-5c6c-40e8-c574-c31fdb37ae77"
      },
      "execution_count": 5,
      "outputs": [
        {
          "output_type": "stream",
          "name": "stdout",
          "text": [
            "Number of invalid dates: 1024806\n"
          ]
        }
      ]
    },
    {
      "cell_type": "code",
      "source": [
        "# Display a few records to inspect\n",
        "print(\"Sample 'Accident_Index' values from accidents_df:\")\n",
        "print(accidents_df['Accident_Index'].head())\n",
        "\n",
        "print(\"Sample 'Accident_Index' values from casualties_df:\")\n",
        "print(casualties_df['Accident_Index'].head())\n",
        "\n",
        "print(\"Sample 'Accident_Index' values from vehicles_df:\")\n",
        "print(vehicles_df['Accident_Index'].head())\n",
        "\n",
        "# Check for unique values to ensure there are no discrepancies\n",
        "print(\"Unique 'Accident_Index' in accidents_df:\", accidents_df['Accident_Index'].nunique())\n",
        "print(\"Unique 'Accident_Index' in casualties_df:\", casualties_df['Accident_Index'].nunique())\n",
        "print(\"Unique 'Accident_Index' in vehicles_df:\", vehicles_df['Accident_Index'].nunique())\n"
      ],
      "metadata": {
        "colab": {
          "base_uri": "https://localhost:8080/"
        },
        "id": "o0EQvdiJcGcW",
        "outputId": "8188fad2-098a-4729-8284-f480eb4aef62"
      },
      "execution_count": 6,
      "outputs": [
        {
          "output_type": "stream",
          "name": "stdout",
          "text": [
            "Sample 'Accident_Index' values from accidents_df:\n",
            "0    1.0\n",
            "1    2.0\n",
            "2    3.0\n",
            "3    4.0\n",
            "4    5.0\n",
            "Name: Accident_Index, dtype: object\n",
            "Sample 'Accident_Index' values from casualties_df:\n",
            "0    1\n",
            "1    2\n",
            "2    3\n",
            "3    4\n",
            "4    5\n",
            "Name: Accident_Index, dtype: object\n",
            "Sample 'Accident_Index' values from vehicles_df:\n",
            "0    1.0\n",
            "1    2.0\n",
            "2    3.0\n",
            "3    4.0\n",
            "4    5.0\n",
            "Name: Accident_Index, dtype: object\n",
            "Unique 'Accident_Index' in accidents_df: 59998\n",
            "Unique 'Accident_Index' in casualties_df: 59998\n",
            "Unique 'Accident_Index' in vehicles_df: 59999\n"
          ]
        }
      ]
    }
  ]
}